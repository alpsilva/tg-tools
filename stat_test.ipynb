{
 "cells": [
  {
   "cell_type": "markdown",
   "metadata": {},
   "source": [
    "# Necessary Library Installs"
   ]
  },
  {
   "cell_type": "code",
   "execution_count": 1,
   "metadata": {},
   "outputs": [
    {
     "name": "stdout",
     "output_type": "stream",
     "text": [
      "Defaulting to user installation because normal site-packages is not writeable\n",
      "Requirement already satisfied: scipy in /home/alps2/.local/lib/python3.10/site-packages (1.8.1)\n",
      "Collecting numpy<1.25.0,>=1.17.3\n",
      "  Downloading numpy-1.24.4-cp310-cp310-manylinux_2_17_x86_64.manylinux2014_x86_64.whl (17.3 MB)\n",
      "\u001b[2K     \u001b[38;2;114;156;31m━━━━━━━━━━━━━━━━━━━━━━━━━━━━━━━━━━━━━━━━\u001b[0m \u001b[32m17.3/17.3 MB\u001b[0m \u001b[31m6.8 MB/s\u001b[0m eta \u001b[36m0:00:00\u001b[0mm eta \u001b[36m0:00:01\u001b[0m0:01\u001b[0m:01\u001b[0m\n",
      "\u001b[?25hInstalling collected packages: numpy\n",
      "  Attempting uninstall: numpy\n",
      "    Found existing installation: numpy 1.25.0\n",
      "    Uninstalling numpy-1.25.0:\n",
      "      Successfully uninstalled numpy-1.25.0\n",
      "\u001b[31mERROR: pip's dependency resolver does not currently take into account all the packages that are installed. This behaviour is the source of the following dependency conflicts.\n",
      "neupy 0.6.5 requires graphviz==0.5.1, but you have graphviz 0.20.1 which is incompatible.\n",
      "mlflow 1.29.0 requires pandas<2, but you have pandas 2.0.2 which is incompatible.\n",
      "mlflow 1.29.0 requires sqlalchemy<2,>=1.4.0, but you have sqlalchemy 2.0.15 which is incompatible.\u001b[0m\u001b[31m\n",
      "\u001b[0mSuccessfully installed numpy-1.24.4\n",
      "Note: you may need to restart the kernel to use updated packages.\n"
     ]
    }
   ],
   "source": [
    "%pip install scipy"
   ]
  },
  {
   "cell_type": "markdown",
   "metadata": {},
   "source": [
    "# Imports"
   ]
  },
  {
   "cell_type": "code",
   "execution_count": 2,
   "metadata": {},
   "outputs": [],
   "source": [
    "import scipy.stats as stats"
   ]
  },
  {
   "cell_type": "markdown",
   "metadata": {},
   "source": [
    "# Load data from experiments"
   ]
  },
  {
   "cell_type": "code",
   "execution_count": 8,
   "metadata": {},
   "outputs": [],
   "source": [
    "original_exec_times = [1, 2, 1, 2, 3, 4, 5, 10, 3, 10]\n",
    "optimized_exec_times = [1, 1, 2, 2, 3, 5, 5, 8, 4, 10]"
   ]
  },
  {
   "cell_type": "markdown",
   "metadata": {},
   "source": [
    "# Perform test"
   ]
  },
  {
   "cell_type": "code",
   "execution_count": 9,
   "metadata": {},
   "outputs": [
    {
     "name": "stdout",
     "output_type": "stream",
     "text": [
      "p_value: 0.00017561553104590864\n",
      "Null Hypothesis rejected.\n",
      "verdict: The groups are different statistically.\n"
     ]
    }
   ],
   "source": [
    "# Define Hypothesis\n",
    "null_h = \"The groups are the same statistically.\"\n",
    "alt_h = \"The groups are different statistically.\"\n",
    "\n",
    "# Define the statistical significance level\n",
    "alpha = 0.05\n",
    "\n",
    "# Perform the Mann-Whitney U test\n",
    "result = stats.mannwhitneyu(original_exec_times, optimized_exec_times)\n",
    "\n",
    "statistic = result.statistic\n",
    "p_value = result.pvalue\n",
    "\n",
    "print(\"p_value:\", p_value)\n",
    "\n",
    "if p_value < alpha:\n",
    "    print(\"Null Hypothesis rejected.\")\n",
    "    print(\"verdict:\", alt_h)\n",
    "else:\n",
    "    print(\"Failed to reject Null Hypothesis\")\n",
    "    print(\"verdict:\", null_h)"
   ]
  }
 ],
 "metadata": {
  "kernelspec": {
   "display_name": "Python 3",
   "language": "python",
   "name": "python3"
  },
  "language_info": {
   "codemirror_mode": {
    "name": "ipython",
    "version": 3
   },
   "file_extension": ".py",
   "mimetype": "text/x-python",
   "name": "python",
   "nbconvert_exporter": "python",
   "pygments_lexer": "ipython3",
   "version": "3.10.12"
  },
  "orig_nbformat": 4
 },
 "nbformat": 4,
 "nbformat_minor": 2
}
